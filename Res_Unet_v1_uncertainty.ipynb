{
 "cells": [
  {
   "cell_type": "code",
   "execution_count": 1,
   "metadata": {
    "id": "2L_yKE1IgpA0"
   },
   "outputs": [],
   "source": [
    "from utils_v1 import *\n",
    "from icecream import ic\n",
    "import pdb\n",
    "\n",
    "# root_path = 'F:/Doctorado/Deforestation_SAR/Tensorflow2/INPE_Project/'\n",
    "root_path = 'D:/jorg/phd/fifth_semester/project_forestcare/data/'"
   ]
  },
  {
   "cell_type": "code",
   "execution_count": 2,
   "metadata": {},
   "outputs": [
    {
     "name": "stdout",
     "output_type": "stream",
     "text": [
      "image shape:  \n",
      " (5013, 5003, 14) \n",
      " reference shape:  \n",
      " (5013, 5003)\n",
      "Percentage of deforestaion class is 0.15\n",
      "Percentage of no-deforestaion class is 76.99\n",
      "Percentage of past-deforestaion class is 22.85\n"
     ]
    }
   ],
   "source": [
    "# Loading images\n",
    "image_stack = np.load(root_path+'filt_norm_img_2019_2020.npy')\n",
    "\n",
    "# Loading reference\n",
    "label_mask = np.load(root_path+'label_mask_2019_2020.npy')\n",
    "\n",
    "print('image shape: ', '\\n', image_stack.shape, '\\n', 'reference shape: ', '\\n', label_mask.shape)\n",
    "\n",
    "# Print pertengate of each class (whole image)\n",
    "no_def = len(label_mask[label_mask==0])\n",
    "def_ = len(label_mask[label_mask==1])\n",
    "pt_def = len(label_mask[label_mask==2])\n",
    "print('Percentage of deforestaion class is {:.2f}'.format((def_*100)/(label_mask.shape[0]*label_mask.shape[1])))\n",
    "print('Percentage of no-deforestaion class is {:.2f}'.format((no_def*100)/(label_mask.shape[0]*label_mask.shape[1])))\n",
    "print('Percentage of past-deforestaion class is {:.2f}'.format((pt_def*100)/(label_mask.shape[0]*label_mask.shape[1])))"
   ]
  },
  {
   "cell_type": "code",
   "execution_count": 3,
   "metadata": {},
   "outputs": [
    {
     "name": "stdout",
     "output_type": "stream",
     "text": [
      "Tiles size:  1002 1000\n",
      "Mask size:  (5010, 5000)\n",
      "mask:  (5010, 5000)\n",
      "image stack:  (5010, 5000, 14)\n",
      "ref : (5010, 5000)\n"
     ]
    }
   ],
   "source": [
    "# Creating tile mask\n",
    "grid_x, grid_y = 5,5\n",
    "mask_tiles = create_mask(label_mask.shape[0], label_mask.shape[1], grid_size=(grid_x, grid_y))\n",
    "image_stack = image_stack[:mask_tiles.shape[0], :mask_tiles.shape[1],:]\n",
    "label_mask = label_mask[:mask_tiles.shape[0], :mask_tiles.shape[1]]\n",
    "\n",
    "print('mask: ',mask_tiles.shape)\n",
    "print('image stack: ', image_stack.shape)\n",
    "print('ref :', label_mask.shape)"
   ]
  },
  {
   "cell_type": "code",
   "execution_count": 4,
   "metadata": {
    "colab": {
     "base_uri": "https://localhost:8080/"
    },
    "id": "OKaXQmmGoxLz",
    "outputId": "e01be7a8-5e4e-4bc7-9cd7-f5ffdf670cc9"
   },
   "outputs": [
    {
     "name": "stdout",
     "output_type": "stream",
     "text": [
      "Training tiles:  [2, 4, 5, 6, 7, 12, 14, 15, 18, 21, 23, 24]\n",
      "Validation tiles:  [9, 11, 25]\n",
      "Test tiles:  [1, 3, 8, 10, 13, 16, 17, 19, 20, 22]\n"
     ]
    }
   ],
   "source": [
    "# Defining tiles for training, validation and test sets\n",
    "tiles_tr = [2,4,5,6,7,12,14,15,18,21,23,24] \n",
    "tiles_val = [9,11,25]\n",
    "tiles_ts = list(set(np.arange(grid_x * grid_y)+1)-set(tiles_tr)-set(tiles_val))\n",
    "    \n",
    "print('Training tiles: ', tiles_tr)\n",
    "print('Validation tiles: ', tiles_val)\n",
    "print('Test tiles: ', tiles_ts)\n",
    "\n",
    "# Training and validation mask\n",
    "mask_tr_val = np.zeros((mask_tiles.shape)).astype('float32')\n",
    "\n",
    "for tr_ in tiles_tr:\n",
    "    mask_tr_val[mask_tiles == tr_] = 1\n",
    "\n",
    "for val_ in tiles_val:\n",
    "    mask_tr_val[mask_tiles == val_] = 2\n",
    "\n",
    "mask_amazon_ts = np.zeros((mask_tiles.shape)).astype('float32')\n",
    "for ts_ in tiles_ts:\n",
    "    mask_amazon_ts[mask_tiles == ts_] = 1"
   ]
  },
  {
   "cell_type": "code",
   "execution_count": 5,
   "metadata": {
    "id": "QI8Gc-NQrr44"
   },
   "outputs": [],
   "source": [
    "overlap = 0.75\n",
    "patch_size = 128\n",
    "batch_size = 32\n",
    "im_idx = create_idx_image(label_mask)\n",
    "patches_idx = extract_patches(im_idx, patch_size=(patch_size, patch_size), overlap=overlap).reshape(-1,patch_size, patch_size)\n",
    "patches_mask = extract_patches(mask_tr_val, patch_size=(patch_size, patch_size), overlap=overlap).reshape(-1, patch_size, patch_size)\n",
    "del im_idx"
   ]
  },
  {
   "cell_type": "code",
   "execution_count": 6,
   "metadata": {
    "colab": {
     "base_uri": "https://localhost:8080/"
    },
    "id": "1V39Gf4owRBa",
    "outputId": "782257f7-6a32-4688-815c-282710ef91ad"
   },
   "outputs": [
    {
     "name": "stdout",
     "output_type": "stream",
     "text": [
      "Number of training and validation patches:   9787 2268\n"
     ]
    }
   ],
   "source": [
    "# Selecting index trn val and test patches idx\n",
    "idx_trn = np.squeeze(np.where(patches_mask.sum(axis=(1, 2))==patch_size**2))\n",
    "idx_val = np.squeeze(np.where(patches_mask.sum(axis=(1, 2))==2*patch_size**2))\n",
    "del patches_mask\n",
    "\n",
    "patches_idx_trn = patches_idx[idx_trn]\n",
    "patches_idx_val = patches_idx[idx_val]\n",
    "del idx_trn, idx_val\n",
    "\n",
    "print('Number of training and validation patches:  ', len(patches_idx_trn), len(patches_idx_val))"
   ]
  },
  {
   "cell_type": "code",
   "execution_count": 7,
   "metadata": {
    "colab": {
     "base_uri": "https://localhost:8080/"
    },
    "id": "ycpxzOJblJvr",
    "outputId": "0d55f5db-3630-4be1-c049-5b29e864b278"
   },
   "outputs": [
    {
     "name": "stdout",
     "output_type": "stream",
     "text": [
      "training samples:  (924, 128, 128) validation samples:  (275, 128, 128)\n"
     ]
    }
   ],
   "source": [
    "# Keeping patches with 2% of def class\n",
    "X_train = retrieve_idx_percentage(label_mask, patches_idx_trn, patch_size, pertentage = 0.2)\n",
    "X_valid = retrieve_idx_percentage(label_mask, patches_idx_val, patch_size, pertentage = 0.2)\n",
    "print('training samples: ', X_train.shape, 'validation samples: ', X_valid.shape)"
   ]
  },
  {
   "cell_type": "code",
   "execution_count": 8,
   "metadata": {
    "id": "hpchvB9nZOmC"
   },
   "outputs": [],
   "source": [
    "# Creating train and validation data generator\n",
    "train_datagen = ImageDataGenerator()\n",
    "valid_datagen = ImageDataGenerator()\n",
    "\n",
    "y_train = np.zeros((len(X_train)))\n",
    "y_valid = np.zeros((len(X_valid)))\n",
    "\n",
    "train_gen = train_datagen.flow(np.expand_dims(X_train, axis = -1), y_train,\n",
    "                              batch_size=batch_size,\n",
    "                              shuffle=True)\n",
    "\n",
    "valid_gen = valid_datagen.flow(np.expand_dims(X_valid, axis = -1), y_valid,\n",
    "                              batch_size=batch_size,\n",
    "                              shuffle=False)\n",
    "\n",
    "number_class = 3\n",
    "train_gen_crops = batch_generator(train_gen, image_stack, label_mask, patch_size, number_class)\n",
    "valid_gen_crops = batch_generator(valid_gen, image_stack, label_mask, patch_size, number_class)"
   ]
  },
  {
   "cell_type": "code",
   "execution_count": 9,
   "metadata": {
    "id": "QfJK-atSgFTG"
   },
   "outputs": [],
   "source": [
    "exp = 0\n",
    "path_exp = root_path+'Experiments/exp'+str(exp)\n",
    "path_models = path_exp+'/models'\n",
    "path_maps = path_exp+'/pred_maps'\n",
    "\n",
    "if not os.path.exists(path_exp):\n",
    "    os.makedirs(path_exp)   \n",
    "if not os.path.exists(path_models):\n",
    "    os.makedirs(path_models)   \n",
    "if not os.path.exists(path_maps):\n",
    "    os.makedirs(path_maps)\n",
    "    \n",
    "times = 1\n",
    "method = 'resunet_dropout'\n",
    "nb_filters = [16, 32, 64, 128, 256]\n",
    "weights = [0.1, 0.9, 0]"
   ]
  },
  {
   "cell_type": "code",
   "execution_count": 10,
   "metadata": {
    "colab": {
     "base_uri": "https://localhost:8080/"
    },
    "id": "568DB3nZLrHC",
    "outputId": "a42680db-a55e-4dab-d815-a8038da73776"
   },
   "outputs": [
    {
     "name": "stdout",
     "output_type": "stream",
     "text": [
      "time:  0\n"
     ]
    },
    {
     "name": "stderr",
     "output_type": "stream",
     "text": [
      "C:\\Users\\jchamorro\\Anaconda3\\envs\\tf2\\lib\\site-packages\\tensorflow\\python\\keras\\optimizer_v2\\optimizer_v2.py:374: UserWarning: The `lr` argument is deprecated, use `learning_rate` instead.\n",
      "  warnings.warn(\n"
     ]
    },
    {
     "name": "stdout",
     "output_type": "stream",
     "text": [
      "Model: \"model\"\n",
      "__________________________________________________________________________________________________\n",
      "Layer (type)                    Output Shape         Param #     Connected to                     \n",
      "==================================================================================================\n",
      "input_enc_net (InputLayer)      [(None, 128, 128, 14 0                                            \n",
      "__________________________________________________________________________________________________\n",
      "res1_net1 (Conv2D)              (None, 128, 128, 16) 2032        input_enc_net[0][0]              \n",
      "__________________________________________________________________________________________________\n",
      "drop_net1 (SpatialDropout2D)    (None, 128, 128, 16) 0           res1_net1[0][0]                  \n",
      "__________________________________________________________________________________________________\n",
      "res2_net1 (Conv2D)              (None, 128, 128, 16) 2320        drop_net1[0][0]                  \n",
      "__________________________________________________________________________________________________\n",
      "res3_net1 (Conv2D)              (None, 128, 128, 16) 240         input_enc_net[0][0]              \n",
      "__________________________________________________________________________________________________\n",
      "add (Add)                       (None, 128, 128, 16) 0           res2_net1[0][0]                  \n",
      "                                                                 res3_net1[0][0]                  \n",
      "__________________________________________________________________________________________________\n",
      "pool_net1 (MaxPooling2D)        (None, 64, 64, 16)   0           add[0][0]                        \n",
      "__________________________________________________________________________________________________\n",
      "res1_net2 (Conv2D)              (None, 64, 64, 32)   4640        pool_net1[0][0]                  \n",
      "__________________________________________________________________________________________________\n",
      "drop_net2 (SpatialDropout2D)    (None, 64, 64, 32)   0           res1_net2[0][0]                  \n",
      "__________________________________________________________________________________________________\n",
      "res2_net2 (Conv2D)              (None, 64, 64, 32)   9248        drop_net2[0][0]                  \n",
      "__________________________________________________________________________________________________\n",
      "res3_net2 (Conv2D)              (None, 64, 64, 32)   544         pool_net1[0][0]                  \n",
      "__________________________________________________________________________________________________\n",
      "add_1 (Add)                     (None, 64, 64, 32)   0           res2_net2[0][0]                  \n",
      "                                                                 res3_net2[0][0]                  \n",
      "__________________________________________________________________________________________________\n",
      "pool_net2 (MaxPooling2D)        (None, 32, 32, 32)   0           add_1[0][0]                      \n",
      "__________________________________________________________________________________________________\n",
      "res1_net3 (Conv2D)              (None, 32, 32, 64)   18496       pool_net2[0][0]                  \n",
      "__________________________________________________________________________________________________\n",
      "drop_net3 (SpatialDropout2D)    (None, 32, 32, 64)   0           res1_net3[0][0]                  \n",
      "__________________________________________________________________________________________________\n",
      "res2_net3 (Conv2D)              (None, 32, 32, 64)   36928       drop_net3[0][0]                  \n",
      "__________________________________________________________________________________________________\n",
      "res3_net3 (Conv2D)              (None, 32, 32, 64)   2112        pool_net2[0][0]                  \n",
      "__________________________________________________________________________________________________\n",
      "add_2 (Add)                     (None, 32, 32, 64)   0           res2_net3[0][0]                  \n",
      "                                                                 res3_net3[0][0]                  \n",
      "__________________________________________________________________________________________________\n",
      "pool_net3 (MaxPooling2D)        (None, 16, 16, 64)   0           add_2[0][0]                      \n",
      "__________________________________________________________________________________________________\n",
      "res1_net4 (Conv2D)              (None, 16, 16, 128)  73856       pool_net3[0][0]                  \n",
      "__________________________________________________________________________________________________\n",
      "drop_net4 (SpatialDropout2D)    (None, 16, 16, 128)  0           res1_net4[0][0]                  \n",
      "__________________________________________________________________________________________________\n",
      "res2_net4 (Conv2D)              (None, 16, 16, 128)  147584      drop_net4[0][0]                  \n",
      "__________________________________________________________________________________________________\n",
      "res3_net4 (Conv2D)              (None, 16, 16, 128)  8320        pool_net3[0][0]                  \n",
      "__________________________________________________________________________________________________\n",
      "add_3 (Add)                     (None, 16, 16, 128)  0           res2_net4[0][0]                  \n",
      "                                                                 res3_net4[0][0]                  \n",
      "__________________________________________________________________________________________________\n",
      "pool_net4 (MaxPooling2D)        (None, 8, 8, 128)    0           add_3[0][0]                      \n",
      "__________________________________________________________________________________________________\n",
      "res1_net5 (Conv2D)              (None, 8, 8, 256)    295168      pool_net4[0][0]                  \n",
      "__________________________________________________________________________________________________\n",
      "drop_net5 (SpatialDropout2D)    (None, 8, 8, 256)    0           res1_net5[0][0]                  \n",
      "__________________________________________________________________________________________________\n",
      "res2_net5 (Conv2D)              (None, 8, 8, 256)    590080      drop_net5[0][0]                  \n",
      "__________________________________________________________________________________________________\n",
      "res3_net5 (Conv2D)              (None, 8, 8, 256)    33024       pool_net4[0][0]                  \n",
      "__________________________________________________________________________________________________\n",
      "add_4 (Add)                     (None, 8, 8, 256)    0           res2_net5[0][0]                  \n",
      "                                                                 res3_net5[0][0]                  \n",
      "__________________________________________________________________________________________________\n",
      "up_sampling2d (UpSampling2D)    (None, 16, 16, 256)  0           add_4[0][0]                      \n",
      "__________________________________________________________________________________________________\n",
      "upsampling_net4 (Conv2D)        (None, 16, 16, 128)  295040      up_sampling2d[0][0]              \n",
      "__________________________________________________________________________________________________\n",
      "spatial_dropout2d (SpatialDropo (None, 16, 16, 128)  0           upsampling_net4[0][0]            \n",
      "__________________________________________________________________________________________________\n",
      "concatenate4 (Concatenate)      (None, 16, 16, 256)  0           add_3[0][0]                      \n",
      "                                                                 spatial_dropout2d[0][0]          \n",
      "__________________________________________________________________________________________________\n",
      "up_sampling2d_1 (UpSampling2D)  (None, 32, 32, 256)  0           concatenate4[0][0]               \n",
      "__________________________________________________________________________________________________\n",
      "upsampling_net3 (Conv2D)        (None, 32, 32, 64)   147520      up_sampling2d_1[0][0]            \n",
      "__________________________________________________________________________________________________\n",
      "spatial_dropout2d_1 (SpatialDro (None, 32, 32, 64)   0           upsampling_net3[0][0]            \n",
      "__________________________________________________________________________________________________\n",
      "concatenate3 (Concatenate)      (None, 32, 32, 128)  0           add_2[0][0]                      \n",
      "                                                                 spatial_dropout2d_1[0][0]        \n",
      "__________________________________________________________________________________________________\n",
      "up_sampling2d_2 (UpSampling2D)  (None, 64, 64, 128)  0           concatenate3[0][0]               \n",
      "__________________________________________________________________________________________________\n",
      "upsampling_net2 (Conv2D)        (None, 64, 64, 32)   36896       up_sampling2d_2[0][0]            \n",
      "__________________________________________________________________________________________________\n",
      "spatial_dropout2d_2 (SpatialDro (None, 64, 64, 32)   0           upsampling_net2[0][0]            \n",
      "__________________________________________________________________________________________________\n",
      "concatenate2 (Concatenate)      (None, 64, 64, 64)   0           add_1[0][0]                      \n",
      "                                                                 spatial_dropout2d_2[0][0]        \n",
      "__________________________________________________________________________________________________\n",
      "up_sampling2d_3 (UpSampling2D)  (None, 128, 128, 64) 0           concatenate2[0][0]               \n",
      "__________________________________________________________________________________________________\n",
      "upsampling_net1 (Conv2D)        (None, 128, 128, 16) 9232        up_sampling2d_3[0][0]            \n",
      "__________________________________________________________________________________________________\n",
      "concatenate1 (Concatenate)      (None, 128, 128, 32) 0           add[0][0]                        \n",
      "                                                                 upsampling_net1[0][0]            \n",
      "__________________________________________________________________________________________________\n",
      "output (Conv2D)                 (None, 128, 128, 3)  99          concatenate1[0][0]               \n",
      "==================================================================================================\n",
      "Total params: 1,713,379\n",
      "Trainable params: 1,713,379\n",
      "Non-trainable params: 0\n",
      "__________________________________________________________________________________________________\n"
     ]
    },
    {
     "name": "stderr",
     "output_type": "stream",
     "text": [
      "C:\\Users\\jchamorro\\Anaconda3\\envs\\tf2\\lib\\site-packages\\tensorflow\\python\\keras\\engine\\training.py:1940: UserWarning: `Model.fit_generator` is deprecated and will be removed in a future version. Please use `Model.fit`, which supports generators.\n",
      "  warnings.warn('`Model.fit_generator` is deprecated and '\n"
     ]
    },
    {
     "name": "stdout",
     "output_type": "stream",
     "text": [
      "Epoch 1/100\n",
      "86/86 [==============================] - 21s 162ms/step - loss: 0.0336 - accuracy: 0.8176 - val_loss: 0.0181 - val_accuracy: 0.8682\n",
      "\n",
      "Epoch 00001: val_loss improved from inf to 0.01806, saving model to D:/jorg/phd/fifth_semester/project_forestcare/data/Experiments/exp0/models\\resunet_dropout_0.h5\n",
      "Epoch 2/100\n"
     ]
    },
    {
     "name": "stderr",
     "output_type": "stream",
     "text": [
      "C:\\Users\\jchamorro\\Anaconda3\\envs\\tf2\\lib\\site-packages\\tensorflow\\python\\keras\\utils\\generic_utils.py:494: CustomMaskWarning: Custom mask layers require a config and must override get_config. When loading, the custom mask layer must be passed to the custom_objects argument.\n",
      "  warnings.warn('Custom mask layers require a config and must override '\n"
     ]
    },
    {
     "name": "stdout",
     "output_type": "stream",
     "text": [
      "86/86 [==============================] - 11s 131ms/step - loss: 0.0181 - accuracy: 0.8835 - val_loss: 0.0158 - val_accuracy: 0.8720\n",
      "\n",
      "Epoch 00002: val_loss improved from 0.01806 to 0.01585, saving model to D:/jorg/phd/fifth_semester/project_forestcare/data/Experiments/exp0/models\\resunet_dropout_0.h5\n",
      "Epoch 3/100\n",
      "86/86 [==============================] - 11s 133ms/step - loss: 0.0160 - accuracy: 0.8878 - val_loss: 0.0152 - val_accuracy: 0.8741\n",
      "\n",
      "Epoch 00003: val_loss improved from 0.01585 to 0.01524, saving model to D:/jorg/phd/fifth_semester/project_forestcare/data/Experiments/exp0/models\\resunet_dropout_0.h5\n",
      "Epoch 4/100\n",
      "86/86 [==============================] - 11s 132ms/step - loss: 0.0151 - accuracy: 0.8902 - val_loss: 0.0148 - val_accuracy: 0.8763\n",
      "\n",
      "Epoch 00004: val_loss improved from 0.01524 to 0.01481, saving model to D:/jorg/phd/fifth_semester/project_forestcare/data/Experiments/exp0/models\\resunet_dropout_0.h5\n",
      "Epoch 5/100\n",
      "86/86 [==============================] - 11s 132ms/step - loss: 0.0146 - accuracy: 0.8923 - val_loss: 0.0147 - val_accuracy: 0.8776\n",
      "\n",
      "Epoch 00005: val_loss improved from 0.01481 to 0.01469, saving model to D:/jorg/phd/fifth_semester/project_forestcare/data/Experiments/exp0/models\\resunet_dropout_0.h5\n",
      "Epoch 6/100\n",
      "86/86 [==============================] - 12s 136ms/step - loss: 0.0143 - accuracy: 0.8933 - val_loss: 0.0141 - val_accuracy: 0.8802\n",
      "\n",
      "Epoch 00006: val_loss improved from 0.01469 to 0.01405, saving model to D:/jorg/phd/fifth_semester/project_forestcare/data/Experiments/exp0/models\\resunet_dropout_0.h5\n",
      "Epoch 7/100\n",
      "86/86 [==============================] - 12s 138ms/step - loss: 0.0140 - accuracy: 0.8948 - val_loss: 0.0145 - val_accuracy: 0.8797\n",
      "\n",
      "Epoch 00007: val_loss did not improve from 0.01405\n",
      "Epoch 8/100\n",
      "86/86 [==============================] - 12s 135ms/step - loss: 0.0136 - accuracy: 0.8964 - val_loss: 0.0144 - val_accuracy: 0.8772\n",
      "\n",
      "Epoch 00008: val_loss did not improve from 0.01405\n",
      "Epoch 9/100\n",
      "86/86 [==============================] - 12s 136ms/step - loss: 0.0135 - accuracy: 0.8969 - val_loss: 0.0146 - val_accuracy: 0.8761\n",
      "\n",
      "Epoch 00009: val_loss did not improve from 0.01405\n",
      "Epoch 10/100\n",
      "86/86 [==============================] - 12s 137ms/step - loss: 0.0131 - accuracy: 0.8990 - val_loss: 0.0143 - val_accuracy: 0.8791\n",
      "\n",
      "Epoch 00010: val_loss did not improve from 0.01405\n",
      "Epoch 11/100\n",
      "86/86 [==============================] - 12s 140ms/step - loss: 0.0131 - accuracy: 0.8985 - val_loss: 0.0145 - val_accuracy: 0.8799\n",
      "\n",
      "Epoch 00011: val_loss did not improve from 0.01405\n",
      "Epoch 12/100\n",
      "86/86 [==============================] - 12s 136ms/step - loss: 0.0128 - accuracy: 0.9008 - val_loss: 0.0146 - val_accuracy: 0.8801\n",
      "\n",
      "Epoch 00012: val_loss did not improve from 0.01405\n",
      "Epoch 13/100\n",
      "86/86 [==============================] - 12s 139ms/step - loss: 0.0127 - accuracy: 0.9003 - val_loss: 0.0150 - val_accuracy: 0.8797\n",
      "\n",
      "Epoch 00013: val_loss did not improve from 0.01405\n",
      "Epoch 14/100\n",
      "86/86 [==============================] - 12s 140ms/step - loss: 0.0124 - accuracy: 0.9017 - val_loss: 0.0147 - val_accuracy: 0.8820\n",
      "\n",
      "Epoch 00014: val_loss did not improve from 0.01405\n",
      "Epoch 15/100\n",
      "86/86 [==============================] - 12s 139ms/step - loss: 0.0124 - accuracy: 0.9017 - val_loss: 0.0141 - val_accuracy: 0.8842\n",
      "\n",
      "Epoch 00015: val_loss did not improve from 0.01405\n",
      "Epoch 16/100\n",
      "86/86 [==============================] - 12s 140ms/step - loss: 0.0120 - accuracy: 0.9037 - val_loss: 0.0145 - val_accuracy: 0.8833\n",
      "\n",
      "Epoch 00016: val_loss did not improve from 0.01405\n",
      "Epoch 00016: early stopping\n"
     ]
    }
   ],
   "source": [
    "metrics_all = []\n",
    "training = True\n",
    "if training == True:\n",
    "    for tm in range(0,times):\n",
    "        print('time: ', tm)\n",
    "\n",
    "        rows = patch_size\n",
    "        cols = patch_size\n",
    "        channels = image_stack.shape[-1]\n",
    "        adam = Adam(lr = 1e-3 , beta_1=0.9)\n",
    "\n",
    "        loss = weighted_categorical_crossentropy(weights)\n",
    "        input_shape = (rows, cols, channels)\n",
    "        model = build_resunet_dropout(input_shape, nb_filters, number_class)\n",
    "#        model = build_unet_dropout(input_shape, nb_filters, number_class)\n",
    "\n",
    "        \n",
    "        model.compile(optimizer=adam, loss=loss, metrics=['accuracy'])\n",
    "        model.summary()\n",
    "\n",
    "        earlystop = EarlyStopping(monitor='val_loss', min_delta=0.0001, patience=10, verbose=1, mode='min')\n",
    "        checkpoint = ModelCheckpoint(path_models+ '/' + method +'_'+str(tm)+'.h5', monitor='val_loss', verbose=1, save_best_only=True, mode='min')\n",
    "        lr_reduce = ReduceLROnPlateau(factor=0.9, min_delta=0.0001, patience=5, verbose=1)\n",
    "        callbacks_list = [earlystop, checkpoint]\n",
    "        # train the model\n",
    "        start_training = time.time()\n",
    "        history = model.fit_generator(train_gen_crops,\n",
    "                                  steps_per_epoch=len(X_train)*3//train_gen.batch_size,\n",
    "                                  validation_data=valid_gen_crops,\n",
    "                                  validation_steps=len(X_valid)*3//valid_gen.batch_size,\n",
    "                                  epochs=100,\n",
    "                                  callbacks=callbacks_list)\n",
    "        end_training = time.time() - start_training\n",
    "        metrics_all.append(end_training)\n",
    "        del model, history\n",
    "\n",
    "    # Saving training time\n",
    "    np.save(path_exp+'/metrics_tr.npy', metrics_all)"
   ]
  },
  {
   "cell_type": "code",
   "execution_count": 11,
   "metadata": {},
   "outputs": [
    {
     "name": "stdout",
     "output_type": "stream",
     "text": [
      "-30.0 -40.0\n"
     ]
    },
    {
     "name": "stderr",
     "output_type": "stream",
     "text": [
      "ic| patch_size_rows: 1008, patch_size_cols: 1008\n"
     ]
    },
    {
     "data": {
      "text/plain": [
       "(1008, 1008)"
      ]
     },
     "execution_count": 11,
     "metadata": {},
     "output_type": "execute_result"
    }
   ],
   "source": [
    "#%% Test loop\n",
    "metrics_ts = []\n",
    "n_pool = 4\n",
    "n_rows = 5\n",
    "n_cols = 5\n",
    "rows, cols = image_stack.shape[:2]\n",
    "pad_rows = rows - np.ceil(rows/(n_rows*2**n_pool))*n_rows*2**n_pool\n",
    "pad_cols = cols - np.ceil(cols/(n_cols*2**n_pool))*n_cols*2**n_pool\n",
    "print(pad_rows, pad_cols)\n",
    "\n",
    "npad = ((0, int(abs(pad_rows))), (0, int(abs(pad_cols))), (0, 0))\n",
    "image1_pad = np.pad(image_stack, pad_width=npad, mode='reflect')\n",
    "del image_stack\n",
    "h, w, c = image1_pad.shape\n",
    "patch_size_rows = h//n_rows\n",
    "patch_size_cols = w//n_cols\n",
    "num_patches_x = int(h/patch_size_rows)\n",
    "num_patches_y = int(w/patch_size_cols)\n",
    "\n",
    "# new_model = build_resunet_dropout(input_shape=(patch_size_rows,patch_size_cols, c), nb_filters = nb_filters, n_classes=3)\n",
    "\n",
    "metrics_all =[]\n",
    "ic(patch_size_rows, patch_size_cols)"
   ]
  },
  {
   "cell_type": "code",
   "execution_count": 12,
   "metadata": {
    "colab": {
     "base_uri": "https://localhost:8080/"
    },
    "id": "nMem2rkfpL-g",
    "outputId": "f4cbf098-d23e-4ea4-ee34-deb5229e0de3"
   },
   "outputs": [
    {
     "name": "stderr",
     "output_type": "stream",
     "text": [
      "ic| path_models+ '/' + method +'_'+str(0)+'.h5': 'D:/jorg/phd/fifth_semester/project_forestcare/data/Experiments/exp0/models/resunet_dropout_0.h5'\n"
     ]
    },
    {
     "name": "stdout",
     "output_type": "stream",
     "text": [
      "time:  0\n",
      "time:  1\n",
      "time:  2\n",
      "time:  3\n",
      "time:  4\n",
      "time:  5\n",
      "time:  6\n",
      "time:  7\n",
      "time:  8\n",
      "time:  9\n"
     ]
    }
   ],
   "source": [
    "\n",
    "\n",
    "times = 10\n",
    "ic(path_models+ '/' + method +'_'+str(0)+'.h5')\n",
    "model = load_model(path_models+ '/' + method +'_'+str(0)+'.h5', compile=False)\n",
    "\n",
    "save_probabilities = False\n",
    "class_n = 3\n",
    "if save_probabilities == False:\n",
    "#    prob_rec = np.zeros((image1_pad.shape[0],image1_pad.shape[1], class_n, times), dtype = np.float32)\n",
    "    prob_rec = np.zeros((image1_pad.shape[0],image1_pad.shape[1], times), dtype = np.float32)\n",
    "for tm in range(0,times):\n",
    "    print('time: ', tm)\n",
    "    \n",
    "    \n",
    "    start_test = time.time()\n",
    "    patch_t = []\n",
    "    \n",
    "    new_model = build_resunet_dropout(input_shape=(patch_size_rows,patch_size_cols, c), nb_filters = nb_filters, n_classes=3, seed = tm)    \n",
    "#    new_model = build_unet_dropout(input_shape=(patch_size_rows,patch_size_cols, c), nb_filters = nb_filters, n_classes=3, seed = tm)    \n",
    "\n",
    "    for l in range(1, len(model.layers)):\n",
    "        new_model.layers[l].set_weights(model.layers[l].get_weights())\n",
    "\n",
    "    for i in range(0,num_patches_y):\n",
    "        for j in range(0,num_patches_x):\n",
    "            patch = image1_pad[patch_size_rows*j:patch_size_rows*(j+1), patch_size_cols*i:patch_size_cols*(i+1), :]\n",
    "            predictions_ = new_model.predict(np.expand_dims(patch, axis=0))\n",
    "            del patch \n",
    "            patch_t.append(predictions_[:,:,:,1]) \n",
    "            del predictions_\n",
    "    ts_time =  time.time() - start_test\n",
    "    patches_pred = np.asarray(patch_t).astype(np.float32)\n",
    "    del patch_t\n",
    "    # Recinstructing predicted map\n",
    "    \n",
    "    prob_reconstructed = pred_reconctruct(h, w, num_patches_x, num_patches_y, patch_size_rows, patch_size_cols, patches_pred)\n",
    "    prob_rec[:,:,tm] = prob_reconstructed\n",
    "    if save_probabilities == True:\n",
    "        np.save(path_maps+'/'+'prob_'+str(tm)+'.npy',prob_reconstructed) \n",
    "        \n",
    "    metrics_all.append(ts_time)\n",
    "    del patches_pred, prob_reconstructed\n",
    "metrics_ = np.asarray(metrics_all)\n",
    "\n",
    "# Saving test time\n",
    "np.save(path_exp+'/metrics_ts.npy', metrics_)"
   ]
  },
  {
   "cell_type": "code",
   "execution_count": 13,
   "metadata": {
    "colab": {
     "base_uri": "https://localhost:8080/",
     "height": 664
    },
    "id": "Ehh68acZW2lR",
    "outputId": "c8425340-4e10-421c-e30d-57f90058f6d5",
    "scrolled": true
   },
   "outputs": [
    {
     "name": "stderr",
     "output_type": "stream",
     "text": [
      "ic| prob_rec.shape: (5040, 5040, 10), prob_rec.dtype: dtype('float32')\n"
     ]
    },
    {
     "data": {
      "image/png": "[encoded data removed]",
      "text/plain": [
       "<Figure size 720x720 with 1 Axes>"
      ]
     },
     "metadata": {
      "needs_background": "light"
     },
     "output_type": "display_data"
    }
   ],
   "source": [
    "if save_probabilities == True:\n",
    "    prob_rec = np.zeros((image1_pad.shape[0],image1_pad.shape[1], times), dtype = np.float32)\n",
    "    for tm in range (0, times):\n",
    "        print(tm)\n",
    "        prob_rec[:,:,tm] = np.load(path_maps+'/'+'prob_'+str(tm)+'.npy').astype(np.float32)\n",
    "selected_class = 1\n",
    "\n",
    "\n",
    "ic(prob_rec.shape, prob_rec.dtype)\n",
    "mean_prob = np.mean(prob_rec, axis = -1)\n",
    "\n",
    "np.save(path_maps+'/prob_mean.npy', mean_prob)\n",
    "\n",
    "fig1 = plt.figure(figsize=(10,10))\n",
    "plt.imshow(mean_prob, cmap = 'jet')\n",
    "plt.savefig('mean_prob_class'+str(selected_class)+'.png')\n",
    "\n"
   ]
  },
  {
   "cell_type": "code",
   "execution_count": 14,
   "metadata": {},
   "outputs": [
    {
     "data": {
      "text/plain": [
       "(5040, 5040)"
      ]
     },
     "execution_count": 14,
     "metadata": {},
     "output_type": "execute_result"
    }
   ],
   "source": [
    "mean_prob.shape"
   ]
  },
  {
   "cell_type": "markdown",
   "metadata": {},
   "source": [
    "### Calculate error areas"
   ]
  },
  {
   "cell_type": "code",
   "execution_count": 16,
   "metadata": {},
   "outputs": [
    {
     "data": {
      "text/plain": [
       "Text(0.5, 1.0, 'Error areas')"
      ]
     },
     "execution_count": 16,
     "metadata": {},
     "output_type": "execute_result"
    },
    {
     "data": {
      "image/png": "[encoded data removed]",
      "text/plain": [
       "<Figure size 720x720 with 1 Axes>"
      ]
     },
     "metadata": {
      "needs_background": "light"
     },
     "output_type": "display_data"
    }
   ],
   "source": [
    "selected_class = 1\n",
    "label_mask_current_deforestation = label_mask.copy()\n",
    "label_mask_current_deforestation[label_mask_current_deforestation == selected_class] = 10\n",
    "label_mask_current_deforestation[label_mask_current_deforestation != 10] = 0\n",
    "label_mask_current_deforestation[label_mask_current_deforestation == 10] = 1\n",
    "\n",
    "\n",
    "mean_prob_thresh = np.zeros_like(mean_prob[:label_mask.shape[0], :label_mask.shape[1]])\n",
    "mean_prob_thresh[mean_prob[:label_mask.shape[0], :label_mask.shape[1]] > 0.5] = 1\n",
    "\n",
    "error_areas = np.abs(mean_prob_thresh - label_mask_current_deforestation)\n",
    "np.unique(error_areas, return_counts = True)\n",
    "\n",
    "fig2 = plt.figure(figsize=(10,10))\n",
    "plt.imshow(error_areas)\n",
    "plt.title('Error areas')"
   ]
  },
  {
   "cell_type": "code",
   "execution_count": null,
   "metadata": {},
   "outputs": [],
   "source": [
    "ic(prob_rec.shape)\n",
    "prob_rec = np.transpose(prob_rec, (2, 0, 1))"
   ]
  },
  {
   "cell_type": "code",
   "execution_count": null,
   "metadata": {},
   "outputs": [],
   "source": []
  },
  {
   "cell_type": "code",
   "execution_count": null,
   "metadata": {},
   "outputs": [],
   "source": [
    "prob_rec = np.expand_dims(prob_rec, axis = -1)"
   ]
  },
  {
   "cell_type": "code",
   "execution_count": null,
   "metadata": {},
   "outputs": [],
   "source": [
    "ic(prob_rec.shape)"
   ]
  },
  {
   "cell_type": "code",
   "execution_count": null,
   "metadata": {},
   "outputs": [],
   "source": [
    "from mpl_toolkits.axes_grid1 import make_axes_locatable\n",
    "\n",
    "epsilon = 1e-15\n",
    "def show_im(im, ax, title = \"\", cmap = \"jet\"):\n",
    "    im_plt = ax.imshow(im.astype(np.float32), cmap = cmap)\n",
    "    plt.title(title)\n",
    "    divider = make_axes_locatable(ax)\n",
    "    cax = divider.append_axes(\"right\", size=\"5%\", pad=0.05)\n",
    "    plt.colorbar(im_plt, cax=cax) \n",
    "\n",
    "def get_mean(pred_probs):\n",
    "      return np.mean(pred_probs, axis=0)\n",
    "    \n",
    "def get_uncertainty_var(pred_probs):\n",
    "    return np.var(pred_probs, axis=0)\n",
    "    \n",
    "def predictive_variance(pred_probs):\n",
    "    pred_var = get_uncertainty_var(pred_probs)\n",
    "    pred_var = np.average(pred_var, axis = -1)\n",
    "#    ic(pred_var.shape)\n",
    "    return pred_var\n",
    "\n",
    "def predictive_entropy(pred_probs):\n",
    "    pred_mean = get_mean(pred_probs) # shape (patch_len, patch_len, class_n)\n",
    "    pred_entropy = np.zeros((pred_mean.shape[0:2]))\n",
    "\n",
    "    K = pred_mean.shape[-1]\n",
    "    for k in range(K):\n",
    "        pred_entropy = pred_entropy + pred_mean[..., k] * np.log(pred_mean[..., k] + epsilon) \n",
    "    pred_entropy = - pred_entropy / K\n",
    "    return pred_entropy\n",
    "\n",
    "\n",
    "def single_experiment_entropy(pred_prob):\n",
    "    pred_entropy = np.zeros(pred_prob.shape[0:2])\n",
    "    ic(pred_entropy.shape)\n",
    "    \n",
    "    K = pred_prob.shape[-1]\n",
    "    for k in range(K):\n",
    "        pred_entropy = pred_entropy + pred_prob[..., k] * np.log(pred_prob[..., k] + epsilon) \n",
    "    pred_entropy = - pred_entropy / K\n",
    "    return pred_entropy\n",
    "\n",
    "def mutual_information(pred_probs):\n",
    "    H = predictive_entropy(pred_probs)\n",
    "    sum_entropy = 0\n",
    "\n",
    "    n = pred_probs.shape[0]\n",
    "    K = pred_probs.shape[-1]\n",
    "    ic(n, K)\n",
    "\n",
    "    for i in range(n):\n",
    "        for k in range(K):\n",
    "            sum_entropy = sum_entropy + pred_probs[i, ..., k] * np.log(pred_probs[i, ..., k] + epsilon)\n",
    "\n",
    "    sum_entropy = - sum_entropy / (n * K)\n",
    "\n",
    "    MI = H - sum_entropy\n",
    "    return MI"
   ]
  },
  {
   "cell_type": "code",
   "execution_count": null,
   "metadata": {},
   "outputs": [],
   "source": [
    "pred_var = predictive_variance(prob_rec)\n",
    "\n",
    "fig, ax = plt.subplots(1,1,figsize=(10,10))\n",
    "show_im(pred_var, ax, title = 'Uncertainty predictive varance')\n"
   ]
  },
  {
   "cell_type": "code",
   "execution_count": null,
   "metadata": {},
   "outputs": [],
   "source": [
    "pred_entropy = predictive_entropy(prob_rec)\n",
    "\n",
    "fig, ax = plt.subplots(1,1,figsize=(10,10))\n",
    "show_im(pred_entropy, ax, title = 'Uncertainty predictive entropy')\n"
   ]
  },
  {
   "cell_type": "code",
   "execution_count": null,
   "metadata": {},
   "outputs": [],
   "source": [
    "pred_entropy_single = single_experiment_entropy(prob_rec[0])\n",
    "\n",
    "fig, ax = plt.subplots(1,1,figsize=(10,10))\n",
    "show_im(pred_entropy_single, ax, title = 'Uncertainty predictive entropy single sample')\n"
   ]
  },
  {
   "cell_type": "code",
   "execution_count": null,
   "metadata": {
    "scrolled": false
   },
   "outputs": [],
   "source": [
    "\n",
    "\n",
    "MI = mutual_information(prob_rec)\n",
    "\n",
    "fig, ax = plt.subplots(1,1,figsize=(10,10))\n",
    "show_im(MI, ax, title = 'Uncertainty MI')\n"
   ]
  },
  {
   "cell_type": "code",
   "execution_count": null,
   "metadata": {
    "colab": {
     "base_uri": "https://localhost:8080/"
    },
    "id": "4P8pVKDxW6Lh",
    "outputId": "1cf070ef-93bc-4c6b-8b56-ea5797262531"
   },
   "outputs": [],
   "source": [
    "'''\n",
    "# Computing metrics over the test tiles\n",
    "mean_prob = mean_prob[:label_mask.shape[0], :label_mask.shape[1]]\n",
    "ref1 = np.ones_like(label_mask).astype(np.float32)\n",
    "\n",
    "ref1 [label_mask == 2] = 0\n",
    "TileMask = mask_amazon_ts * ref1\n",
    "GTTruePositives = label_mask==1\n",
    "\n",
    "# Number of thresholds to generate the curve    \n",
    "Npoints = 6\n",
    "Pmax = np.max(mean_prob[GTTruePositives * TileMask ==1])\n",
    "ProbList = np.linspace(Pmax,0,Npoints)\n",
    "    \n",
    "metrics_ = matrics_AA_recall(ProbList, mean_prob, label_mask, mask_amazon_ts, 69)\n",
    "np.save(path_exp+'/acc_metrics.npy',metrics_)\n",
    "'''"
   ]
  },
  {
   "cell_type": "code",
   "execution_count": null,
   "metadata": {
    "colab": {
     "base_uri": "https://localhost:8080/"
    },
    "id": "DB-vr1sq6PwK",
    "outputId": "014201d1-b182-4eed-898a-4979b3046d7f"
   },
   "outputs": [],
   "source": [
    "'''\n",
    "# Complete NaN values\n",
    "metrics_copy = metrics_.copy()\n",
    "metrics_copy = complete_nan_values(metrics_copy)\n",
    "Recall = metrics_copy[:,0]\n",
    "Precision = metrics_copy[:,1]\n",
    "\n",
    "# Generating mAP curve\n",
    "mAP = Area_under_the_curve(Recall, Precision)\n",
    "print('mAP: ', mAP)\n",
    "\n",
    "plt.close('all')\n",
    "plt.plot(Recall, Precision)\n",
    "plt.grid()\n",
    "'''"
   ]
  }
 ],
 "metadata": {
  "colab": {
   "collapsed_sections": [],
   "name": "SAR_OPTICAL.ipynb",
   "provenance": []
  },
  "kernelspec": {
   "display_name": "Python 3 (ipykernel)",
   "language": "python",
   "name": "python3"
  },
  "language_info": {
   "codemirror_mode": {
    "name": "ipython",
    "version": 3
   },
   "file_extension": ".py",
   "mimetype": "text/x-python",
   "name": "python",
   "nbconvert_exporter": "python",
   "pygments_lexer": "ipython3",
   "version": "3.9.6"
  }
 },
 "nbformat": 4,
 "nbformat_minor": 1
}
